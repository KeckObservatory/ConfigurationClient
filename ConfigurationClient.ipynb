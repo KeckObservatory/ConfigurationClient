{
 "cells": [
  {
   "cell_type": "code",
   "execution_count": 29,
   "metadata": {},
   "outputs": [
    {
     "name": "stdout",
     "output_type": "stream",
     "text": [
      "KTL functions are not available\n"
     ]
    }
   ],
   "source": [
    "# imports\n",
    "from pymongo import MongoClient\n",
    "from pprint import pprint\n",
    "import os\n",
    "from bson.objectid import ObjectId\n",
    "import pandas as pd\n",
    "try:\n",
    "    import ktl\n",
    "    useKTL = True\n",
    "except:\n",
    "    print(\"KTL functions are not available\")\n",
    "    useKTL = False"
   ]
  },
  {
   "cell_type": "code",
   "execution_count": 5,
   "metadata": {},
   "outputs": [],
   "source": [
    "# establish connection with configuration database\n",
    "# first you need: ssh keola@observinglogs -L 27017:localhost:27017\n",
    "client = MongoClient('localhost')\n",
    "\n"
   ]
  },
  {
   "cell_type": "code",
   "execution_count": null,
   "metadata": {},
   "outputs": [],
   "source": []
  },
  {
   "cell_type": "code",
   "execution_count": 66,
   "metadata": {},
   "outputs": [],
   "source": [
    "class Instrument():\n",
    "    def __init__(self):\n",
    "        print(\"Instrument class is ready\")\n",
    "        \n",
    "    # KTL decorator: This decorator returns the original method of the super class if KTL\n",
    "    # is not defined\n",
    "    @classmethod\n",
    "    def ktl_decorator(cls, func):\n",
    "        if useKTL:\n",
    "            return func\n",
    "        else:\n",
    "            print(\"%s(%s): KTL is not available, using super method\" % \n",
    "                  (cls.__name__,func.__name__))\n",
    "            return getattr(cls, func.__name__)\n",
    "                \n",
    "    def get_outdir(self):\n",
    "        \"\"\"\n",
    "        Return the current working directory. \n",
    "        Individual child classes can override to use outdir\n",
    "        \"\"\"\n",
    "        return(os.getcwd())\n",
    "    \n",
    "    def get_all_configs(self, semester=None, progname=None):\n",
    "        configurations = []\n",
    "        if semester and progname:\n",
    "            confs = self.db.Configurations.find({'semester': semester, 'progname': progname})\n",
    "        elif semester:\n",
    "            confs = self.db.Configurations.find({'semester': semester})\n",
    "        elif progname:\n",
    "            confs = self.db.Configurations.find({ 'progname': progname})\n",
    "        else:\n",
    "            confs = self.db.Configurations.find()\n",
    "        configurations = list(confs)\n",
    "        converted_configurations = []\n",
    "        for config in configurations:\n",
    "            converted_configurations.append(self.convert_configuration(config))\n",
    "                        \n",
    "        print(pd.DataFrame(converted_configurations))\n",
    "            \n",
    "        \n",
    "    def get_all_projects(self, semester=None):\n",
    "        projects_list = []\n",
    "        if semester is None:\n",
    "            projects = self.db.Configurations.find({},{'progname':1})\n",
    "        else:\n",
    "            projects = self.db.Configurations.find({'semester': semester}, {'progname':1})\n",
    "        for project in projects:\n",
    "            try:\n",
    "                projects_list.append(project['progname'])\n",
    "            except:\n",
    "                pass\n",
    "        print(set(projects_list))\n",
    "        \n",
    "    def get_config(self, semester=None, progname=None, statenam=None):\n",
    "        config = self.db.Configurations.find(\n",
    "            {'semester':semester, \n",
    "             'progname': progname,\n",
    "             'statenam': statenam})\n",
    "        for conf in config:\n",
    "            output_config = conf\n",
    "            pprint(conf)\n",
    "        return(output_config)\n",
    "        \n",
    "    def convert_configuration(self, configuration):\n",
    "        configurationDetail={}\n",
    "        if not self.elements:\n",
    "            print(\"The conversion table is not defined\")\n",
    "            return\n",
    "        for key in self.elements.keys():\n",
    "            state_keyword = self.elements[key][0]\n",
    "            mongo_keyword = self.elements[key][1]\n",
    "            required = self.elements[key][2]\n",
    "            if required:\n",
    "                try:\n",
    "                    configurationDetail[state_keyword] = configuration[mongo_keyword]\n",
    "                except Exception as e:\n",
    "                    raise KeyError(\"Missing keyword %s\" % (e))\n",
    "\n",
    "            else:\n",
    "                try:\n",
    "                    configurationDetail[state_keyword] = configuration[mongo_keyword]\n",
    "                except:\n",
    "                    configurationDetail[state_keyword]=\"\"\n",
    "        configurationDetail['id']=str(configuration['_id'])\n",
    "        return configurationDetail\n",
    "    \n",
    "    def get_state_file(self, semester=None, progname=None, statenam=None):\n",
    "        config = self.db.Configurations.find(\n",
    "            {'semester':semester, \n",
    "             'progname': progname,\n",
    "             'statenam': statenam})\n",
    "        for conf in config:\n",
    "            output_config = conf\n",
    "        translated_config = self.convert_configuration(conf)\n",
    "        if translated_config:\n",
    "            for key in translated_config:\n",
    "                print(\"%s = %s\" % (key, translated_config[key]))\n",
    "    "
   ]
  },
  {
   "cell_type": "code",
   "execution_count": 67,
   "metadata": {},
   "outputs": [
    {
     "name": "stdout",
     "output_type": "stream",
     "text": [
      "Instrument(get_outdir): KTL is not available, using super method\n",
      "Instrument(get_outdir): KTL is not available, using super method\n",
      "Instrument(get_outdir): KTL is not available, using super method\n"
     ]
    }
   ],
   "source": [
    "class LRIS(Instrument):\n",
    "    def __init__(self):\n",
    "        self.db = client.LRIS\n",
    "        self.set_conversion_elements()\n",
    "        super(LRIS, self).__init__()\n",
    "    \n",
    "    @Instrument.ktl_decorator\n",
    "    def get_outdir(self):\n",
    "        lris = ktl.cache('lris')\n",
    "        outdir = lris['outdir'].read()\n",
    "        return(outdir)\n",
    "    \n",
    "    def set_conversion_elements(self):\n",
    "        self.elements = {\n",
    "            '1': ['statenam','statenam',False],\n",
    "            '2': ['GRISNAME','bluegrism',False],\n",
    "            '3': ['DICHNAME','dichroic',False],\n",
    "            '4': ['BLUFILT','filter',False],\n",
    "            '5': ['GRANAME','redgrism',False],\n",
    "            '6': ['SLITNAME','slitmask',False],\n",
    "            }\n",
    "    \n",
    "\n",
    "class MOSFIRE(Instrument):\n",
    "    def __init__(self):\n",
    "        self.db = client.MOSFIRE\n",
    "        super(MOSFIRE, self).__init__()\n",
    "        \n",
    "    @Instrument.ktl_decorator\n",
    "    def get_outdir(self):\n",
    "        mosfire = ktl.cache('mosfire')\n",
    "        outdir = mosfire['outdir'].read()\n",
    "        return(outdir)\n",
    "    \n",
    "class KCWI(Instrument):\n",
    "    def __init__(self):\n",
    "        self.db = client.KCWI\n",
    "        self.set_conversion_elements()\n",
    "        super(KCWI, self).__init__()\n",
    "        \n",
    "    def set_conversion_elements(self):\n",
    "        self.elements = {\n",
    "            '1': ['statenam','statenam',True],\n",
    "            '2': ['image_slicer','image_slicer',False],\n",
    "            '3': ['filterb','filterb',False],\n",
    "            '4': ['gratingb','gratingb',False],\n",
    "            '5': ['nsmaskb','nsmaskb',False],\n",
    "            '6': ['ampmodeb','ampmodeb',False],\n",
    "            '7': ['gainmulb','gainmulb',False],\n",
    "            '8': ['ccdmodeb','ccdmodeb',False],\n",
    "            '9': ['binningb','binningb',False],\n",
    "            '10':['cal_mirror','cal_mirror',False],\n",
    "            '11':['polarizer','polarizer',False],\n",
    "            '12':['cwaveb','cwaveb',False],\n",
    "            '13':['pwaveb','pwaveb',False],\n",
    "            '14':['progname','progname',False],\n",
    "            '15':['camangleb','camangleb',False],\n",
    "            '16':['focusb','focusb',False]\n",
    "            }\n",
    "        \n",
    "\n",
    "    @Instrument.ktl_decorator\n",
    "    def get_outdir(self):\n",
    "        kbds = ktl.cache('lbds')\n",
    "        outdir = kbds['outdir'].read()\n",
    "        return(outdir)"
   ]
  },
  {
   "cell_type": "code",
   "execution_count": 68,
   "metadata": {},
   "outputs": [
    {
     "name": "stdout",
     "output_type": "stream",
     "text": [
      "Instrument class is ready\n"
     ]
    }
   ],
   "source": [
    "lris = LRIS()"
   ]
  },
  {
   "cell_type": "code",
   "execution_count": 69,
   "metadata": {},
   "outputs": [
    {
     "data": {
      "text/plain": [
       "'/Users/lrizzi/Python_Projects/ConfigurationClient'"
      ]
     },
     "execution_count": 69,
     "metadata": {},
     "output_type": "execute_result"
    }
   ],
   "source": [
    "lris.get_outdir()"
   ]
  },
  {
   "cell_type": "code",
   "execution_count": 70,
   "metadata": {},
   "outputs": [
    {
     "name": "stdout",
     "output_type": "stream",
     "text": [
      "{'C999', 'K999', '_test'}\n"
     ]
    }
   ],
   "source": [
    "lris.get_all_projects(semester='2018B')"
   ]
  },
  {
   "cell_type": "code",
   "execution_count": 71,
   "metadata": {},
   "outputs": [
    {
     "name": "stdout",
     "output_type": "stream",
     "text": [
      "       BLUFILT DICHNAME    GRANAME   GRISNAME     SLITNAME  \\\n",
      "0                                                            \n",
      "1                                                            \n",
      "2                                                            \n",
      "3                                                            \n",
      "4                                                            \n",
      "5                                                            \n",
      "6                                                            \n",
      "7                                                            \n",
      "8   NB6741_Red     D560  1200/7500  1200/3400     long_8.7   \n",
      "9        R_Red     D500   600/7500   300/5000     long_1.5   \n",
      "10                                                           \n",
      "11                                                           \n",
      "12      g_Blue     D560   400/8500   600/4000     long_1.0   \n",
      "13                 D460              400/3400     long_1.0   \n",
      "14                 D560              600/4000     long_1.0   \n",
      "15                 D500             1200/3400     long_8.7   \n",
      "16                                                long_0.7   \n",
      "17                 D460             1200/3400  focus_holes   \n",
      "\n",
      "                          id             statenam  \n",
      "0   5938f3365986351039d3a469                       \n",
      "1   5939fd195986355ee2c1bea1                conf1  \n",
      "2   5939fecb5986355ee2c1bea2                conf3  \n",
      "3   5939fecc5986355ee2c1bea3                conf1  \n",
      "4   5945ca2559863503fc2b2312                conf1  \n",
      "5   5945ca2959863503fc2b2313                conf2  \n",
      "6   5945ca2a59863503fc2b2314                conf3  \n",
      "7   595aed845986353b6570c1a6                percy  \n",
      "8   5b50f6a22203f73cdacd11cc       test_DUPLICATE  \n",
      "9   5b7493722203f72aa158ed60                    b  \n",
      "10  5b7497672203f72dcd8cc231                 heck  \n",
      "11  5b749f4e2203f72f2dc2b4de                    x  \n",
      "12  5bca52c54eae3539aa63171d              CheckID  \n",
      "13  5c11bb324eae356fb1e09b4a  need something here  \n",
      "14  5c1441be4eae356fb1e09b51             editTest  \n",
      "15  5c1457e64eae356fb1e09b52              test132  \n",
      "16  5c33ee0a4eae3556c0139da8                 test  \n",
      "17  5c1809a84eae356fb1e09b57            test1.0.3  \n"
     ]
    }
   ],
   "source": [
    "lris.get_all_configs()"
   ]
  },
  {
   "cell_type": "code",
   "execution_count": 11,
   "metadata": {},
   "outputs": [
    {
     "name": "stdout",
     "output_type": "stream",
     "text": [
      "{'_id': ObjectId('5bca52c54eae3539aa63171d'),\n",
      " 'bluegrism': '600/4000',\n",
      " 'detector': 'Blue',\n",
      " 'dichroic': 'D560',\n",
      " 'filter': 'g_Blue',\n",
      " 'polarimeter': 'Off',\n",
      " 'progname': 'C999',\n",
      " 'redgrism': '400/8500',\n",
      " 'semester': '2018B',\n",
      " 'slitmask': 'long_1.0',\n",
      " 'statenam': 'CheckID'}\n"
     ]
    },
    {
     "data": {
      "text/plain": [
       "{'_id': ObjectId('5bca52c54eae3539aa63171d'),\n",
       " 'statenam': 'CheckID',\n",
       " 'detector': 'Blue',\n",
       " 'dichroic': 'D560',\n",
       " 'filter': 'g_Blue',\n",
       " 'bluegrism': '600/4000',\n",
       " 'redgrism': '400/8500',\n",
       " 'slitmask': 'long_1.0',\n",
       " 'polarimeter': 'Off',\n",
       " 'progname': 'C999',\n",
       " 'semester': '2018B'}"
      ]
     },
     "execution_count": 11,
     "metadata": {},
     "output_type": "execute_result"
    }
   ],
   "source": [
    "lris.get_config('2018B', 'C999', 'CheckID')"
   ]
  },
  {
   "cell_type": "code",
   "execution_count": 10,
   "metadata": {},
   "outputs": [
    {
     "name": "stdout",
     "output_type": "stream",
     "text": [
      "Instrument class is ready\n"
     ]
    }
   ],
   "source": [
    "mosfire = MOSFIRE()"
   ]
  },
  {
   "cell_type": "code",
   "execution_count": 11,
   "metadata": {},
   "outputs": [
    {
     "name": "stdout",
     "output_type": "stream",
     "text": [
      "{'K999'}\n"
     ]
    }
   ],
   "source": [
    "mosfire.get_all_projects(semester='2018B')"
   ]
  },
  {
   "cell_type": "code",
   "execution_count": 12,
   "metadata": {},
   "outputs": [],
   "source": [
    "mosfire.get_all_configs('K999')"
   ]
  },
  {
   "cell_type": "code",
   "execution_count": 13,
   "metadata": {},
   "outputs": [
    {
     "name": "stdout",
     "output_type": "stream",
     "text": [
      "{'_id': ObjectId('5bce74b04eae3539aa631721'),\n",
      " 'coadds': '1',\n",
      " 'dither': \"ABA'B'\",\n",
      " 'mdcname': 'qwer',\n",
      " 'obsmode': 'J2-spectroscopy',\n",
      " 'progname': 'K999',\n",
      " 'semester': '2018B',\n",
      " 'statenam': 'Josh Test 1'}\n"
     ]
    },
    {
     "data": {
      "text/plain": [
       "{'_id': ObjectId('5bce74b04eae3539aa631721'),\n",
       " 'statenam': 'Josh Test 1',\n",
       " 'obsmode': 'J2-spectroscopy',\n",
       " 'mdcname': 'qwer',\n",
       " 'coadds': '1',\n",
       " 'progname': 'K999',\n",
       " 'semester': '2018B',\n",
       " 'dither': \"ABA'B'\"}"
      ]
     },
     "execution_count": 13,
     "metadata": {},
     "output_type": "execute_result"
    }
   ],
   "source": [
    "mosfire.get_config('2018B','K999','Josh Test 1')"
   ]
  },
  {
   "cell_type": "code",
   "execution_count": 15,
   "metadata": {},
   "outputs": [
    {
     "name": "stdout",
     "output_type": "stream",
     "text": [
      "Instrument class is ready\n"
     ]
    }
   ],
   "source": [
    "kcwi = KCWI()"
   ]
  },
  {
   "cell_type": "code",
   "execution_count": 16,
   "metadata": {},
   "outputs": [
    {
     "name": "stdout",
     "output_type": "stream",
     "text": [
      "                        _id  ampmodeb binningb cal_mirror camangleb  ccdmodeb  \\\n",
      "0  5a861aeace9e24352e97b746         9      2,2        Sky                   0   \n",
      "1  5a861b88ce9e24352e97b748         9      2,2        Sky                   0   \n",
      "2  5a861bc5ce9e24352e97b749         9      2,2        Sky                   0   \n",
      "3  5a861c76ce9e24352e97b74b         9      2,2        Sky                   0   \n",
      "4  5a861cc3ce9e24352e97b74c         9      2,2        Sky                   0   \n",
      "5  5a861d99ce9e24352e97b74d         9      2,2        Sky                   0   \n",
      "6  5a88027bce9e242955e92581         9      2,2        Sky                   0   \n",
      "7  5a880283ce9e242955e92582         9      2,2        Sky                   0   \n",
      "8  5a88e835ce9e2472c8aa87a2         9      2,2        Sky                   0   \n",
      "\n",
      "  cwaveb filterb focusb  gainmulb gratingb image_slicer nsmaskb polarizer  \\\n",
      "0   4960   KBlue               10      BH3       Medium    Open       Sky   \n",
      "1   5100   KBlue               10       BM       Medium    Open       Sky   \n",
      "2   4260   KBlue               10       BM       Medium    Open       Sky   \n",
      "3   4800   KBlue               10       BM       Medium    Open       Sky   \n",
      "4   4500   KBlue               10       BL       Medium    Open       Sky   \n",
      "5   4400   KBlue               10       BM       Medium    Open       Sky   \n",
      "6   5110   KBlue               10       BM       Medium    Open       Sky   \n",
      "7   5120   KBlue               10       BM       Medium    Open       Sky   \n",
      "8   4700   KBlue               10       BM       Medium    Open       Sky   \n",
      "\n",
      "  progname pwaveb           statenam  \n",
      "0     C343   4960  NGC628_M_BH3_4960  \n",
      "1     C343   5100     DF44_M_BM_5100  \n",
      "2     C343   4260  FLASHES_M_BM_4260  \n",
      "3     C343   4800  FLASHES_M_BM_4800  \n",
      "4     C343   4500      M51_M_BL_4500  \n",
      "5     C343   4400  FLASHES_M_BM_4400  \n",
      "6     C343   5110     DF44_M_BM_5110  \n",
      "7     C343   5120     DF44_M_BM_5120  \n",
      "8     C343   4700  FLASHES_M_BM_4700  \n"
     ]
    }
   ],
   "source": [
    "kcwi.get_all_configs(progname='C343')"
   ]
  },
  {
   "cell_type": "code",
   "execution_count": 16,
   "metadata": {},
   "outputs": [
    {
     "name": "stdout",
     "output_type": "stream",
     "text": [
      "{'_id': ObjectId('5a861aeace9e24352e97b746'),\n",
      " 'ampmodeb': 9,\n",
      " 'binningb': '2,2',\n",
      " 'cal_mirror': 'Sky',\n",
      " 'camangleb': '',\n",
      " 'ccdmodeb': 0,\n",
      " 'cwaveb': '4960',\n",
      " 'filterb': 'KBlue',\n",
      " 'focusb': '',\n",
      " 'gainmulb': 10,\n",
      " 'gratingb': 'BH3',\n",
      " 'image_slicer': 'Medium',\n",
      " 'nsmaskb': 'Open',\n",
      " 'polarizer': 'Sky',\n",
      " 'progname': 'C343',\n",
      " 'pwaveb': '4960',\n",
      " 'statenam': 'NGC628_M_BH3_4960'}\n"
     ]
    }
   ],
   "source": [
    "conf = kcwi.get_config(progname='C343',statenam='NGC628_M_BH3_4960')"
   ]
  },
  {
   "cell_type": "code",
   "execution_count": 32,
   "metadata": {},
   "outputs": [
    {
     "name": "stdout",
     "output_type": "stream",
     "text": [
      "statenam = NGC628_M_BH3_4960\n",
      "image_slicer = Medium\n",
      "filterb = KBlue\n",
      "gratingb = BH3\n",
      "nsmaskb = Open\n",
      "ampmodeb = 9\n",
      "gainmulb = 10\n",
      "ccdmodeb = 0\n",
      "binningb = 2,2\n",
      "cal_mirror = Sky\n",
      "polarizer = Sky\n",
      "cwaveb = 4960\n",
      "pwaveb = 4960\n",
      "progname = C343\n",
      "camangleb = \n",
      "focusb = \n",
      "id = 5a861aeace9e24352e97b746\n"
     ]
    }
   ],
   "source": [
    "kcwi.get_state_file(progname='C343', statenam='NGC628_M_BH3_4960')"
   ]
  },
  {
   "cell_type": "code",
   "execution_count": 29,
   "metadata": {},
   "outputs": [
    {
     "name": "stdout",
     "output_type": "stream",
     "text": [
      "statenam = CheckID\n",
      "GRISNAME = 600/4000\n",
      "DICHNAME = D560\n",
      "BLUFILT = g_Blue\n",
      "GRANAME = 400/8500\n",
      "SLITNAME = long_1.0\n",
      "id = 5bca52c54eae3539aa63171d\n"
     ]
    }
   ],
   "source": [
    "lris.get_state_file('2018B', 'C999', 'CheckID')"
   ]
  },
  {
   "cell_type": "code",
   "execution_count": 24,
   "metadata": {},
   "outputs": [],
   "source": [
    "lris.set_conversion_elements()"
   ]
  },
  {
   "cell_type": "code",
   "execution_count": 25,
   "metadata": {},
   "outputs": [
    {
     "data": {
      "text/plain": [
       "{'1': ['statenam', 'statenam', True],\n",
       " '2': ['GRISNAME', 'bluegrism', False],\n",
       " '3': ['DICHNAME', 'dichroic', False],\n",
       " '4': ['BLUFILT', 'filter', False],\n",
       " '5': ['GRANAME', 'redgrism', False],\n",
       " '6': ['SLITNAME', 'slitmask', False]}"
      ]
     },
     "execution_count": 25,
     "metadata": {},
     "output_type": "execute_result"
    }
   ],
   "source": [
    "lris.elements"
   ]
  },
  {
   "cell_type": "code",
   "execution_count": null,
   "metadata": {},
   "outputs": [],
   "source": []
  }
 ],
 "metadata": {
  "kernelspec": {
   "display_name": "Python 3",
   "language": "python",
   "name": "python3"
  },
  "language_info": {
   "codemirror_mode": {
    "name": "ipython",
    "version": 3
   },
   "file_extension": ".py",
   "mimetype": "text/x-python",
   "name": "python",
   "nbconvert_exporter": "python",
   "pygments_lexer": "ipython3",
   "version": "3.6.6"
  }
 },
 "nbformat": 4,
 "nbformat_minor": 2
}
