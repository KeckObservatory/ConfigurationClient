{
 "cells": [
  {
   "cell_type": "code",
   "execution_count": 18,
   "metadata": {},
   "outputs": [
    {
     "name": "stdout",
     "output_type": "stream",
     "text": [
      "KTL functions are not available\n"
     ]
    }
   ],
   "source": [
    "# imports\n",
    "from pymongo import MongoClient\n",
    "from pprint import pprint\n",
    "import os\n",
    "from bson.objectid import ObjectId\n",
    "try:\n",
    "    import ktl\n",
    "    useKTL = True\n",
    "except:\n",
    "    print(\"KTL functions are not available\")\n",
    "    useKTL = False"
   ]
  },
  {
   "cell_type": "code",
   "execution_count": 2,
   "metadata": {},
   "outputs": [],
   "source": [
    "# establish connection with configuration database\n",
    "# first you need: ssh keola@observinglogs -L 27017:localhost:27017\n",
    "client = MongoClient('localhost')\n",
    "\n",
    "# select an instrument\n",
    "db = client.LRIS"
   ]
  },
  {
   "cell_type": "code",
   "execution_count": null,
   "metadata": {},
   "outputs": [],
   "source": []
  },
  {
   "cell_type": "code",
   "execution_count": 124,
   "metadata": {},
   "outputs": [],
   "source": [
    "class Instrument():\n",
    "    def __init__(self):\n",
    "        print(\"Instrument class is ready\")\n",
    "        \n",
    "    # KTL decorator: This decorator returns the original method of the super class if KTL\n",
    "    # is not defined\n",
    "    @classmethod\n",
    "    def ktl_decorator(cls, func):\n",
    "        if useKTL:\n",
    "            return func\n",
    "        else:\n",
    "            print(\"%s(%s): KTL is not available, using super method\" % \n",
    "                  (cls.__name__,func.__name__))\n",
    "            return getattr(cls, func.__name__)\n",
    "                \n",
    "    def get_outdir(self):\n",
    "        \"\"\"\n",
    "        Return the current working directory. \n",
    "        Individual child classes can override to use outdir\n",
    "        \"\"\"\n",
    "        return(os.getcwd())\n",
    "    \n",
    "    def get_all_configs(self, semester=None, progname=None):\n",
    "        if progname is None and semester is None:\n",
    "            configurations = self.db.Configurations.find()\n",
    "        elif semester is None:\n",
    "            configurations = self.db.Configurations.find({'progname':progname})\n",
    "        elif progname is None:\n",
    "            configurations = self.db.Configurations.find({'semester':semester})\n",
    "        for config in configurations:\n",
    "            pprint(config)\n",
    "            \n",
    "    def get_all_projects(self, semester=None):\n",
    "        projects_list = []\n",
    "        if semester is None:\n",
    "            projects = self.db.Configurations.find({},{'progname':1})\n",
    "        else:\n",
    "            projects = self.db.Configurations.find({'semester': semester}, {'progname':1})\n",
    "        for project in projects:\n",
    "            try:\n",
    "                projects_list.append(project['progname'])\n",
    "            except:\n",
    "                pass\n",
    "        print(set(projects_list))\n",
    "        \n",
    "    def get_config(self, semester, progname, statenam):\n",
    "        config = self.db.Configurations.find(\n",
    "            {'semester':semester, \n",
    "             'progname': progname,\n",
    "             'statenam': statenam})\n",
    "        for conf in config:\n",
    "            pprint(conf)\n",
    "        \n",
    "        \n",
    "    \n",
    "    \n",
    "        "
   ]
  },
  {
   "cell_type": "code",
   "execution_count": 125,
   "metadata": {},
   "outputs": [
    {
     "name": "stdout",
     "output_type": "stream",
     "text": [
      "Instrument(get_outdir): KTL is not available, using super method\n",
      "Instrument(get_outdir): KTL is not available, using super method\n"
     ]
    }
   ],
   "source": [
    "class LRIS(Instrument):\n",
    "    def __init__(self):\n",
    "        self.db = client.LRIS\n",
    "        super(LRIS, self).__init__()\n",
    "    \n",
    "    @Instrument.ktl_decorator\n",
    "    def get_outdir(self):\n",
    "        lris = ktl.cache('lris')\n",
    "        outdir = lris['outdir'].read()\n",
    "        return(outdir)\n",
    "    \n",
    "class MOSFIRE(Instrument):\n",
    "    def __init__(self):\n",
    "        self.db = client.MOSFIRE\n",
    "        super(MOSFIRE, self).__init__()\n",
    "        \n",
    "    @Instrument.ktl_decorator\n",
    "    def get_outdir(self):\n",
    "        mosfire = ktl.cache('mosfire')\n",
    "        outdir = mosfire['outdir'].read()\n",
    "        return(outdir)"
   ]
  },
  {
   "cell_type": "code",
   "execution_count": 126,
   "metadata": {},
   "outputs": [
    {
     "name": "stdout",
     "output_type": "stream",
     "text": [
      "Instrument class is ready\n"
     ]
    }
   ],
   "source": [
    "lris = LRIS()"
   ]
  },
  {
   "cell_type": "code",
   "execution_count": 127,
   "metadata": {},
   "outputs": [
    {
     "data": {
      "text/plain": [
       "'/Users/lrizzi/Python_Projects/ConfigurationClient'"
      ]
     },
     "execution_count": 127,
     "metadata": {},
     "output_type": "execute_result"
    }
   ],
   "source": [
    "lris.get_outdir()"
   ]
  },
  {
   "cell_type": "code",
   "execution_count": 128,
   "metadata": {},
   "outputs": [
    {
     "name": "stdout",
     "output_type": "stream",
     "text": [
      "{'K999', '_test', 'C999'}\n"
     ]
    }
   ],
   "source": [
    "lris.get_all_projects(semester='2018B')"
   ]
  },
  {
   "cell_type": "code",
   "execution_count": 130,
   "metadata": {},
   "outputs": [
    {
     "name": "stdout",
     "output_type": "stream",
     "text": [
      "{'_id': ObjectId('5bca52c54eae3539aa63171d'),\n",
      " 'bluegrism': '600/4000',\n",
      " 'detector': 'Blue',\n",
      " 'dichroic': 'D560',\n",
      " 'filter': 'g_Blue',\n",
      " 'polarimeter': 'Off',\n",
      " 'progname': 'C999',\n",
      " 'redgrism': '400/8500',\n",
      " 'semester': '2018B',\n",
      " 'slitmask': 'long_1.0',\n",
      " 'statenam': 'CheckID'}\n"
     ]
    }
   ],
   "source": [
    "lris.get_all_configs(progname='C999')"
   ]
  },
  {
   "cell_type": "code",
   "execution_count": 101,
   "metadata": {},
   "outputs": [
    {
     "name": "stdout",
     "output_type": "stream",
     "text": [
      "{'_id': ObjectId('5bca52c54eae3539aa63171d'),\n",
      " 'bluegrism': '600/4000',\n",
      " 'detector': 'Blue',\n",
      " 'dichroic': 'D560',\n",
      " 'filter': 'g_Blue',\n",
      " 'polarimeter': 'Off',\n",
      " 'progname': 'C999',\n",
      " 'redgrism': '400/8500',\n",
      " 'semester': '2018B',\n",
      " 'slitmask': 'long_1.0',\n",
      " 'statenam': 'CheckID'}\n"
     ]
    }
   ],
   "source": [
    "lris.get_config('2018B', 'C999', 'CheckID')"
   ]
  },
  {
   "cell_type": "code",
   "execution_count": 116,
   "metadata": {},
   "outputs": [
    {
     "name": "stdout",
     "output_type": "stream",
     "text": [
      "Instrument class is ready\n"
     ]
    }
   ],
   "source": [
    "mosfire = MOSFIRE()"
   ]
  },
  {
   "cell_type": "code",
   "execution_count": 119,
   "metadata": {},
   "outputs": [
    {
     "name": "stdout",
     "output_type": "stream",
     "text": [
      "{'K999'}\n"
     ]
    }
   ],
   "source": [
    "mosfire.get_all_projects(semester='2018B')"
   ]
  },
  {
   "cell_type": "code",
   "execution_count": 120,
   "metadata": {},
   "outputs": [
    {
     "name": "stdout",
     "output_type": "stream",
     "text": [
      "{'_id': ObjectId('5bce74b04eae3539aa631721'),\n",
      " 'coadds': '1',\n",
      " 'dither': \"ABA'B'\",\n",
      " 'mdcname': 'qwer',\n",
      " 'obsmode': 'J2-spectroscopy',\n",
      " 'progname': 'K999',\n",
      " 'semester': '2018B',\n",
      " 'statenam': 'Josh Test 1'}\n",
      "{'_id': ObjectId('5c11c1914eae356fb1e09b4c'),\n",
      " 'coadds': '1',\n",
      " 'dither': \"ABA'B'\",\n",
      " 'mdcname': 'NoMansMask',\n",
      " 'obsmode': 'Ks-imaging',\n",
      " 'progname': 'K999',\n",
      " 'semester': '2018B',\n",
      " 'statenam': 'A full test'}\n"
     ]
    }
   ],
   "source": [
    "mosfire.get_all_configs('K999')"
   ]
  },
  {
   "cell_type": "code",
   "execution_count": 121,
   "metadata": {},
   "outputs": [
    {
     "name": "stdout",
     "output_type": "stream",
     "text": [
      "{'_id': ObjectId('5bce74b04eae3539aa631721'),\n",
      " 'coadds': '1',\n",
      " 'dither': \"ABA'B'\",\n",
      " 'mdcname': 'qwer',\n",
      " 'obsmode': 'J2-spectroscopy',\n",
      " 'progname': 'K999',\n",
      " 'semester': '2018B',\n",
      " 'statenam': 'Josh Test 1'}\n"
     ]
    }
   ],
   "source": [
    "mosfire.get_config('2018B','K999','Josh Test 1')"
   ]
  },
  {
   "cell_type": "code",
   "execution_count": null,
   "metadata": {},
   "outputs": [],
   "source": []
  }
 ],
 "metadata": {
  "kernelspec": {
   "display_name": "Python 3",
   "language": "python",
   "name": "python3"
  },
  "language_info": {
   "codemirror_mode": {
    "name": "ipython",
    "version": 3
   },
   "file_extension": ".py",
   "mimetype": "text/x-python",
   "name": "python",
   "nbconvert_exporter": "python",
   "pygments_lexer": "ipython3",
   "version": "3.6.6"
  }
 },
 "nbformat": 4,
 "nbformat_minor": 2
}
